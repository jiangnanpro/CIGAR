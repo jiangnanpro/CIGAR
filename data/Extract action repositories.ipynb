{
 "cells": [
  {
   "cell_type": "markdown",
   "id": "f3fdc77c-6fba-4aa0-8617-05e2de7867c5",
   "metadata": {},
   "source": [
    "See `README` file for more information about the process performed by this notebook."
   ]
  },
  {
   "cell_type": "code",
   "execution_count": 1,
   "id": "a77632ad-0dd3-43e5-8d27-5825bbf59016",
   "metadata": {},
   "outputs": [],
   "source": [
    "import pandas as pd\n",
    "import requests\n",
    "from tqdm import tqdm \n",
    "\n",
    "import subprocess\n",
    "import shutil\n",
    "from multiprocessing import Pool\n",
    "from pathlib import Path\n",
    "from functools import partial\n",
    "import re"
   ]
  },
  {
   "cell_type": "code",
   "execution_count": 2,
   "id": "93a40ef8-71ed-4a71-a087-375be78203f7",
   "metadata": {},
   "outputs": [],
   "source": [
    "# Path to clone repositories\n",
    "DATA_DIR = Path('../data')\n",
    "WORKING = Path('../data/actions')\n",
    "WORKERS = 40"
   ]
  },
  {
   "cell_type": "code",
   "execution_count": 3,
   "id": "2f291956-e80d-4b7d-a26b-e0840871d861",
   "metadata": {},
   "outputs": [],
   "source": [
    "repositories_action = (\n",
    "    pd.read_csv(DATA_DIR / 'action_name.csv.gz')\n",
    "    [['action']]\n",
    "    .values\n",
    "    .tolist()\n",
    ")\n"
   ]
  },
  {
   "cell_type": "code",
   "execution_count": 4,
   "id": "ed662871-851d-4aca-aa9e-784f2e214f6f",
   "metadata": {},
   "outputs": [],
   "source": [
    "from collections import Counter "
   ]
  },
  {
   "cell_type": "code",
   "execution_count": 5,
   "id": "bdf1bb4a-4452-417f-9027-bd7d05899bf0",
   "metadata": {
    "scrolled": true,
    "tags": []
   },
   "outputs": [
    {
     "name": "stdout",
     "output_type": "stream",
     "text": [
      "2468\n"
     ]
    }
   ],
   "source": [
    "a = [action[0].strip('/') for action in repositories_action]\n",
    "print(len(Counter(a)))"
   ]
  },
  {
   "cell_type": "code",
   "execution_count": 6,
   "id": "9a2fdd55-0af1-4d25-a0d7-3579d8126de2",
   "metadata": {},
   "outputs": [
    {
     "name": "stdout",
     "output_type": "stream",
     "text": [
      "There are 2472 action repositories.\n"
     ]
    }
   ],
   "source": [
    "print(f'There are {len(repositories_action)} action repositories.')"
   ]
  },
  {
   "cell_type": "markdown",
   "id": "f19595ee-1a61-41c6-b27c-d55d0a227767",
   "metadata": {},
   "source": [
    "Let's define a function that will do most of the job for a given repository and its default branch. Inline comments explain the process. "
   ]
  },
  {
   "cell_type": "code",
   "execution_count": 28,
   "id": "062f88d0-c06d-42a7-b1f1-b32591dffbaa",
   "metadata": {},
   "outputs": [],
   "source": [
    "def download_workflows(base_path: Path, repo: str, skip_existing=False, timeout=None):\n",
    "    \"\"\"\n",
    "    Download the action.yml/yaml files for given repository. \n",
    "    \n",
    "    :param base_path: target path for downloading the repository. \n",
    "    :param repo: name of the repository on GitHub. \n",
    "    :param branch: name of the branch to consider.\n",
    "    :param timeout: timeout for individual command (in seconds).\n",
    "    \"\"\"\n",
    "    # Create repository folder\n",
    "    path = base_path / repo.replace('/', '---')\n",
    "    try:\n",
    "        path.mkdir(parents=True)\n",
    "    except FileExistsError:\n",
    "        if not skip_existing:\n",
    "            raise\n",
    "       \n",
    "    # Check if given repository exists\n",
    "    url = f'https://github.com/{repo}'\n",
    "    r = requests.head(url)\n",
    "    if r.status_code == 404:\n",
    "        # Remove folder\n",
    "        shutil.rmtree(path)\n",
    "        return\n",
    "    \n",
    "    # Quick helper\n",
    "    cmd = partial(subprocess.run, cwd=path, capture_output=True, text = True, timeout=timeout)\n",
    "    \n",
    "    # Initialize git repository\n",
    "    out = cmd(['git', 'init'])\n",
    "    \n",
    "    # Configure git repository\n",
    "    out = cmd(['git', 'remote', 'add', 'origin', 'https://github.com/' + repo])\n",
    "\n",
    "    out = cmd(['git', 'config', 'core.sparsecheckout', 'true'])\n",
    "    (path / '.git/info/sparse-checkout').write_text('action.yml\\naction.yaml\\nREADME.md\\n')\n",
    "    \n",
    "    # Pull default branch\n",
    "    try:\n",
    "        branch = cmd(['git', 'remote', 'show', 'origin']).stdout      \n",
    "        branch = re.search('HEAD branch: (.+)', branch).group(1)\n",
    "        print(branch)\n",
    "        out = cmd(['git', 'pull', 'origin', branch])\n",
    "        out.check_returncode()\n",
    "    except subprocess.CalledProcessError:\n",
    "        # Remove folder\n",
    "        shutil.rmtree(path)\n",
    "        raise\n"
   ]
  },
  {
   "cell_type": "markdown",
   "id": "e0df6d71-4674-4c30-a1e3-bb2ff89b831e",
   "metadata": {},
   "source": [
    "Let's define a thin wrapper to handle errors."
   ]
  },
  {
   "cell_type": "code",
   "execution_count": 29,
   "id": "94bf645f-df19-48e5-b8f2-7503d69a69a5",
   "metadata": {},
   "outputs": [],
   "source": [
    "def job(repository):\n",
    "    repo = repository[0]\n",
    "    try:\n",
    "        download_workflows(WORKING, repo, skip_existing=True, timeout=None)\n",
    "        return repo\n",
    "    except Exception as e: \n",
    "        return repo, e"
   ]
  },
  {
   "cell_type": "code",
   "execution_count": 62,
   "id": "a2c86f6d-86fb-4978-9f99-84d69be4fecb",
   "metadata": {
    "scrolled": true,
    "tags": []
   },
   "outputs": [
    {
     "name": "stderr",
     "output_type": "stream",
     "text": [
      "  1%|▊                                                                                  | 2/200 [00:00<00:28,  6.97it/s]"
     ]
    },
    {
     "name": "stdout",
     "output_type": "stream",
     "text": [
      "master\n",
      "main\n",
      "main\n",
      "master"
     ]
    },
    {
     "name": "stderr",
     "output_type": "stream",
     "text": [
      "  2%|█▏                                                                                 | 3/200 [00:00<00:57,  3.44it/s]"
     ]
    },
    {
     "name": "stdout",
     "output_type": "stream",
     "text": [
      "\n",
      "master\n",
      "master\n",
      "mastermastermaster\n",
      "\n",
      "\n",
      "main\n",
      "main\n",
      "master\n",
      "mastermaster\n",
      "\n",
      "main\n",
      "main\n",
      "master\n",
      "main\n",
      "main\n",
      "main\n",
      "mastermastermaster\n",
      "\n",
      "\n",
      "master\n",
      "mastermain\n",
      "\n"
     ]
    },
    {
     "name": "stderr",
     "output_type": "stream",
     "text": [
      "  2%|██                                                                                 | 5/200 [00:00<00:34,  5.60it/s]"
     ]
    },
    {
     "name": "stdout",
     "output_type": "stream",
     "text": [
      "main\n",
      "main\n",
      "mastermainmain\n",
      "\n",
      "\n",
      "dev\n",
      "master\n",
      "1.33.x\n",
      "master\n",
      "master\n",
      "main\n"
     ]
    },
    {
     "name": "stderr",
     "output_type": "stream",
     "text": [
      "  5%|████                                                                              | 10/200 [00:01<00:13, 13.79it/s]"
     ]
    },
    {
     "name": "stdout",
     "output_type": "stream",
     "text": [
      "main\n",
      "1.23.x\n",
      "main\n"
     ]
    },
    {
     "name": "stderr",
     "output_type": "stream",
     "text": [
      " 20%|████████████████▊                                                                 | 41/200 [00:01<00:03, 45.84it/s]"
     ]
    },
    {
     "name": "stdout",
     "output_type": "stream",
     "text": [
      "main\n",
      "main\n",
      "master\n",
      "master\n",
      "master\n",
      "master\n",
      "main\n",
      "dev\n",
      "v1.x\n",
      "master\n",
      "mainmain\n",
      "\n",
      "main\n",
      "master\n",
      "master\n",
      "master\n",
      "main\n",
      "main\n",
      "master\n",
      "main\n",
      "master\n",
      "old-repo\n",
      "main\n",
      "master\n",
      "master\n"
     ]
    },
    {
     "name": "stderr",
     "output_type": "stream",
     "text": [
      " 24%|███████████████████▋                                                              | 48/200 [00:02<00:05, 25.46it/s]"
     ]
    },
    {
     "name": "stdout",
     "output_type": "stream",
     "text": [
      "master\n",
      "master\n",
      "master\n",
      "main\n",
      "main\n",
      "mastermaster\n",
      "\n",
      "master\n",
      "main\n",
      "master\n"
     ]
    },
    {
     "name": "stderr",
     "output_type": "stream",
     "text": [
      " 26%|█████████████████████▋                                                            | 53/200 [00:02<00:05, 28.01it/s]"
     ]
    },
    {
     "name": "stdout",
     "output_type": "stream",
     "text": [
      "master\n",
      "master\n",
      "master\n"
     ]
    },
    {
     "name": "stderr",
     "output_type": "stream",
     "text": [
      " 32%|██████████████████████████▏                                                       | 64/200 [00:02<00:03, 39.78it/s]"
     ]
    },
    {
     "name": "stdout",
     "output_type": "stream",
     "text": [
      "master\n",
      "master\n"
     ]
    },
    {
     "name": "stderr",
     "output_type": "stream",
     "text": [
      " 42%|██████████████████████████████████▊                                               | 85/200 [00:02<00:01, 59.20it/s]"
     ]
    },
    {
     "name": "stdout",
     "output_type": "stream",
     "text": [
      "master\n",
      "main\n",
      "main\n"
     ]
    },
    {
     "name": "stderr",
     "output_type": "stream",
     "text": [
      " 46%|██████████████████████████████████████▏                                           | 93/200 [00:02<00:02, 45.93it/s]"
     ]
    },
    {
     "name": "stdout",
     "output_type": "stream",
     "text": [
      "main\n",
      "master\n",
      "master\n",
      "main\n",
      "master\n",
      "mainmaster\n",
      "\n",
      "master\n",
      "main\n",
      "master\n",
      "master\n",
      "main\n",
      "main\n"
     ]
    },
    {
     "name": "stderr",
     "output_type": "stream",
     "text": [
      " 50%|████████████████████████████████████████▌                                        | 100/200 [00:03<00:02, 34.07it/s]"
     ]
    },
    {
     "name": "stdout",
     "output_type": "stream",
     "text": [
      "master\n",
      "master\n",
      "mainmain\n",
      "\n",
      "master\n",
      "mastermaster\n",
      "\n",
      "master\n",
      "master\n",
      "master\n",
      "master\n",
      "master\n",
      "main\n"
     ]
    },
    {
     "name": "stderr",
     "output_type": "stream",
     "text": [
      " 52%|██████████████████████████████████████████▌                                      | 105/200 [00:03<00:02, 33.59it/s]"
     ]
    },
    {
     "name": "stdout",
     "output_type": "stream",
     "text": [
      "master\n",
      "main\n",
      "main\n",
      "master\n"
     ]
    },
    {
     "name": "stderr",
     "output_type": "stream",
     "text": [
      " 56%|████████████████████████████████████████████▉                                    | 111/200 [00:03<00:02, 37.40it/s]"
     ]
    },
    {
     "name": "stdout",
     "output_type": "stream",
     "text": [
      "main\n",
      "master\n",
      "master\n"
     ]
    },
    {
     "name": "stderr",
     "output_type": "stream",
     "text": [
      " 60%|█████████████████████████████████████████████████                                | 121/200 [00:03<00:01, 48.97it/s]"
     ]
    },
    {
     "name": "stdout",
     "output_type": "stream",
     "text": [
      "main\n",
      "main\n",
      "main\n",
      "master\n"
     ]
    },
    {
     "name": "stderr",
     "output_type": "stream",
     "text": [
      " 64%|███████████████████████████████████████████████████▊                             | 128/200 [00:03<00:01, 46.43it/s]"
     ]
    },
    {
     "name": "stdout",
     "output_type": "stream",
     "text": [
      "main\n",
      "master\n"
     ]
    },
    {
     "name": "stderr",
     "output_type": "stream",
     "text": [
      " 68%|██████████████████████████████████████████████████████▋                          | 135/200 [00:03<00:01, 47.30it/s]"
     ]
    },
    {
     "name": "stdout",
     "output_type": "stream",
     "text": [
      "master\n",
      "main\n",
      "master\n",
      "main\n",
      "main\n",
      "master\n"
     ]
    },
    {
     "name": "stderr",
     "output_type": "stream",
     "text": [
      " 70%|█████████████████████████████████████████████████████████                        | 141/200 [00:04<00:01, 38.92it/s]"
     ]
    },
    {
     "name": "stdout",
     "output_type": "stream",
     "text": [
      "master\n",
      "master\n",
      "main\n",
      "master\n",
      "master\n",
      "main\n",
      "main\n",
      "main\n",
      "main\n",
      "master\n",
      "master\n",
      "main\n",
      "mastermaster\n",
      "\n"
     ]
    },
    {
     "name": "stderr",
     "output_type": "stream",
     "text": [
      " 73%|███████████████████████████████████████████████████████████▏                     | 146/200 [00:04<00:01, 32.23it/s]"
     ]
    },
    {
     "name": "stdout",
     "output_type": "stream",
     "text": [
      "main\n",
      "master\n",
      "master\n"
     ]
    },
    {
     "name": "stderr",
     "output_type": "stream",
     "text": [
      " 77%|██████████████████████████████████████████████████████████████▎                  | 154/200 [00:04<00:01, 38.81it/s]"
     ]
    },
    {
     "name": "stdout",
     "output_type": "stream",
     "text": [
      "main\n",
      "master\n",
      "master\n",
      "master\n",
      "main\n",
      "main\n",
      "master\n",
      "main\n",
      "master\n"
     ]
    },
    {
     "name": "stderr",
     "output_type": "stream",
     "text": [
      " 80%|████████████████████████████████████████████████████████████████▊                | 160/200 [00:04<00:00, 41.49it/s]"
     ]
    },
    {
     "name": "stdout",
     "output_type": "stream",
     "text": [
      "master\n",
      "master\n",
      "master\n",
      "master\n",
      "master\n"
     ]
    },
    {
     "name": "stderr",
     "output_type": "stream",
     "text": [
      " 82%|██████████████████████████████████████████████████████████████████▊              | 165/200 [00:04<00:00, 39.39it/s]"
     ]
    },
    {
     "name": "stdout",
     "output_type": "stream",
     "text": [
      "develop\n"
     ]
    },
    {
     "name": "stderr",
     "output_type": "stream",
     "text": [
      " 86%|██████████████████████████████████████████████████████████████████████           | 173/200 [00:04<00:00, 47.25it/s]"
     ]
    },
    {
     "name": "stdout",
     "output_type": "stream",
     "text": [
      "main\n",
      "master\n",
      "main\n",
      "master\n",
      "master\n",
      "master\n"
     ]
    },
    {
     "name": "stderr",
     "output_type": "stream",
     "text": [
      " 90%|████████████████████████████████████████████████████████████████████████▍        | 179/200 [00:05<00:00, 38.57it/s]"
     ]
    },
    {
     "name": "stdout",
     "output_type": "stream",
     "text": [
      "main\n",
      "master\n",
      "main\n",
      "main\n",
      "master\n",
      "mainline\n",
      "master\n",
      "master"
     ]
    },
    {
     "name": "stderr",
     "output_type": "stream",
     "text": [
      " 92%|██████████████████████████████████████████████████████████████████████████▌      | 184/200 [00:05<00:00, 32.43it/s]"
     ]
    },
    {
     "name": "stdout",
     "output_type": "stream",
     "text": [
      "\n",
      "master\n",
      "main\n",
      "main\n",
      "main\n",
      "v1\n"
     ]
    },
    {
     "name": "stderr",
     "output_type": "stream",
     "text": [
      " 94%|████████████████████████████████████████████████████████████████████████████▏    | 188/200 [00:05<00:00, 29.13it/s]"
     ]
    },
    {
     "name": "stdout",
     "output_type": "stream",
     "text": [
      "master\n"
     ]
    },
    {
     "name": "stderr",
     "output_type": "stream",
     "text": [
      " 98%|███████████████████████████████████████████████████████████████████████████████▍ | 196/200 [00:05<00:00, 38.25it/s]"
     ]
    },
    {
     "name": "stdout",
     "output_type": "stream",
     "text": [
      "main\n"
     ]
    },
    {
     "name": "stderr",
     "output_type": "stream",
     "text": [
      "100%|█████████████████████████████████████████████████████████████████████████████████| 200/200 [00:05<00:00, 34.08it/s]\n"
     ]
    }
   ],
   "source": [
    "output = []\n",
    "inputs = repositories_action[1800:2000]\n",
    "\n",
    "with Pool(processes=WORKERS) as pool:\n",
    "    jobs = pool.imap_unordered(job, inputs)\n",
    "    for r in tqdm(jobs, total=len(inputs)):\n",
    "        output.append(r)"
   ]
  },
  {
   "cell_type": "code",
   "execution_count": 63,
   "id": "8e008d37-0683-4278-9ce0-2a769b4640f4",
   "metadata": {
    "scrolled": true,
    "tags": []
   },
   "outputs": [
    {
     "name": "stdout",
     "output_type": "stream",
     "text": [
      "There are 2 failing repositories out of 200.\n",
      "('johnwbyrd/update-release', CalledProcessError(128, ['git', 'pull', 'origin', 'master'], '', \"From https://github.com/johnwbyrd/update-release\\n * tag               master     -> FETCH_HEAD\\nfatal: update_ref failed for ref 'HEAD': cannot update ref 'refs/heads/master': trying to write non-commit object d2eeee14cc6eca1dde7b33127961c6fbf67670b5 to branch 'refs/heads/master'\\n\"))\n",
      "('ljharb/actions-js-build/commit', AttributeError(\"'NoneType' object has no attribute 'group'\"))\n"
     ]
    }
   ],
   "source": [
    "failures = [x for x in output if len(x) == 2]\n",
    "print(f'There are {len(failures)} failing repositories out of {len(output)}.')\n",
    "print('\\n'.join(map(str, failures)))"
   ]
  },
  {
   "cell_type": "code",
   "execution_count": null,
   "id": "eadbe643-b11e-43c1-8eb9-87e6038634fa",
   "metadata": {},
   "outputs": [],
   "source": []
  }
 ],
 "metadata": {
  "kernelspec": {
   "display_name": "Python 3 (ipykernel)",
   "language": "python",
   "name": "python3"
  },
  "language_info": {
   "codemirror_mode": {
    "name": "ipython",
    "version": 3
   },
   "file_extension": ".py",
   "mimetype": "text/x-python",
   "name": "python",
   "nbconvert_exporter": "python",
   "pygments_lexer": "ipython3",
   "version": "3.9.13"
  }
 },
 "nbformat": 4,
 "nbformat_minor": 5
}
