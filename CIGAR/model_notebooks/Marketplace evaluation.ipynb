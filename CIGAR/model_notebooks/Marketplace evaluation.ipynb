{
 "cells": [
  {
   "cell_type": "markdown",
   "id": "77e2f74c-4a2e-40a7-a34d-193e8b914a61",
   "metadata": {},
   "source": [
    "# In this notebook we test the performance of the searching bar on github Marketplace."
   ]
  },
  {
   "cell_type": "code",
   "execution_count": 3,
   "id": "ea5ffad3-afce-4775-913e-17c062388c27",
   "metadata": {},
   "outputs": [],
   "source": [
    "import pandas as pd\n",
    "from tqdm import tqdm \n",
    "from pathlib import Path\n",
    "import csv\n",
    "import pprint\n",
    "import requests\n",
    "import re \n",
    "\n",
    "# Path to data folder\n",
    "DATA_DIR = Path('../../data')"
   ]
  },
  {
   "cell_type": "markdown",
   "id": "05cdb802-5cd5-42ec-9b56-b662ba0482a5",
   "metadata": {},
   "source": [
    "# Load test data"
   ]
  },
  {
   "cell_type": "code",
   "execution_count": 5,
   "id": "5208f78b-7054-4e18-9da0-7105af0ea53f",
   "metadata": {},
   "outputs": [
    {
     "data": {
      "text/html": [
       "<div>\n",
       "<style scoped>\n",
       "    .dataframe tbody tr th:only-of-type {\n",
       "        vertical-align: middle;\n",
       "    }\n",
       "\n",
       "    .dataframe tbody tr th {\n",
       "        vertical-align: top;\n",
       "    }\n",
       "\n",
       "    .dataframe thead th {\n",
       "        text-align: right;\n",
       "    }\n",
       "</style>\n",
       "<table border=\"1\" class=\"dataframe\">\n",
       "  <thead>\n",
       "    <tr style=\"text-align: right;\">\n",
       "      <th></th>\n",
       "      <th>action</th>\n",
       "      <th>name_official</th>\n",
       "      <th>description_official</th>\n",
       "      <th>names_users</th>\n",
       "      <th>names_number</th>\n",
       "    </tr>\n",
       "  </thead>\n",
       "  <tbody>\n",
       "    <tr>\n",
       "      <th>0</th>\n",
       "      <td>actions/upload-artifact</td>\n",
       "      <td>Upload a Build Artifact</td>\n",
       "      <td>Upload a build artifact that can be used by su...</td>\n",
       "      <td>upload dh-make-golang test run as artifact,upl...</td>\n",
       "      <td>736</td>\n",
       "    </tr>\n",
       "    <tr>\n",
       "      <th>1</th>\n",
       "      <td>actions/cache</td>\n",
       "      <td>Cache</td>\n",
       "      <td>Cache artifacts like dependencies and build ou...</td>\n",
       "      <td>cache conan data,handle yarn cache,restore nod...</td>\n",
       "      <td>363</td>\n",
       "    </tr>\n",
       "    <tr>\n",
       "      <th>2</th>\n",
       "      <td>actions/checkout</td>\n",
       "      <td>Checkout</td>\n",
       "      <td>Checkout a Git repository at a particular version</td>\n",
       "      <td>checkout ref commit,checkout the source code,c...</td>\n",
       "      <td>359</td>\n",
       "    </tr>\n",
       "    <tr>\n",
       "      <th>3</th>\n",
       "      <td>actions/download-artifact</td>\n",
       "      <td>Download a Build Artifact</td>\n",
       "      <td>Download a build artifact that was previously ...</td>\n",
       "      <td>download external libs,download ${{ matrix.nam...</td>\n",
       "      <td>228</td>\n",
       "    </tr>\n",
       "    <tr>\n",
       "      <th>4</th>\n",
       "      <td>actions/upload-release-asset</td>\n",
       "      <td>Upload a Release Asset</td>\n",
       "      <td>Upload a release asset to an existing release ...</td>\n",
       "      <td>upload node modules package,uploading release ...</td>\n",
       "      <td>218</td>\n",
       "    </tr>\n",
       "    <tr>\n",
       "      <th>...</th>\n",
       "      <td>...</td>\n",
       "      <td>...</td>\n",
       "      <td>...</td>\n",
       "      <td>...</td>\n",
       "      <td>...</td>\n",
       "    </tr>\n",
       "    <tr>\n",
       "      <th>92</th>\n",
       "      <td>pypa/cibuildwheel</td>\n",
       "      <td>cibuildwheel</td>\n",
       "      <td>Installs and runs cibuildwheel on the current ...</td>\n",
       "      <td>build wheels for linux,build macos wheels,buil...</td>\n",
       "      <td>4</td>\n",
       "    </tr>\n",
       "    <tr>\n",
       "      <th>90</th>\n",
       "      <td>shogo82148/actions-goveralls</td>\n",
       "      <td>actions-goveralls</td>\n",
       "      <td>Coveralls GitHub Action with Go integration po...</td>\n",
       "      <td>report coverage,send goveralls coverage,upload...</td>\n",
       "      <td>4</td>\n",
       "    </tr>\n",
       "    <tr>\n",
       "      <th>89</th>\n",
       "      <td>r0adkll/sign-android-release</td>\n",
       "      <td>Sign Android release</td>\n",
       "      <td>An action to sign an Android release APK or AAB</td>\n",
       "      <td>sign proprietary app bundle,sign helloxr openg...</td>\n",
       "      <td>4</td>\n",
       "    </tr>\n",
       "    <tr>\n",
       "      <th>88</th>\n",
       "      <td>azure/cli</td>\n",
       "      <td>Azure CLI Action</td>\n",
       "      <td>Automate your GitHub workflows using Azure CLI...</td>\n",
       "      <td>get windows helper ips,create windows helper v...</td>\n",
       "      <td>4</td>\n",
       "    </tr>\n",
       "    <tr>\n",
       "      <th>99</th>\n",
       "      <td>oprypin/find-latest-tag</td>\n",
       "      <td>Find Latest Tag</td>\n",
       "      <td>Find the latest tag in a GitHub repository</td>\n",
       "      <td>get latest charts for ingester,get latest char...</td>\n",
       "      <td>4</td>\n",
       "    </tr>\n",
       "  </tbody>\n",
       "</table>\n",
       "<p>100 rows × 5 columns</p>\n",
       "</div>"
      ],
      "text/plain": [
       "                          action              name_official  \\\n",
       "0        actions/upload-artifact    Upload a Build Artifact   \n",
       "1                  actions/cache                      Cache   \n",
       "2               actions/checkout                   Checkout   \n",
       "3      actions/download-artifact  Download a Build Artifact   \n",
       "4   actions/upload-release-asset     Upload a Release Asset   \n",
       "..                           ...                        ...   \n",
       "92             pypa/cibuildwheel               cibuildwheel   \n",
       "90  shogo82148/actions-goveralls          actions-goveralls   \n",
       "89  r0adkll/sign-android-release       Sign Android release   \n",
       "88                     azure/cli           Azure CLI Action   \n",
       "99       oprypin/find-latest-tag            Find Latest Tag   \n",
       "\n",
       "                                 description_official  \\\n",
       "0   Upload a build artifact that can be used by su...   \n",
       "1   Cache artifacts like dependencies and build ou...   \n",
       "2   Checkout a Git repository at a particular version   \n",
       "3   Download a build artifact that was previously ...   \n",
       "4   Upload a release asset to an existing release ...   \n",
       "..                                                ...   \n",
       "92  Installs and runs cibuildwheel on the current ...   \n",
       "90  Coveralls GitHub Action with Go integration po...   \n",
       "89    An action to sign an Android release APK or AAB   \n",
       "88  Automate your GitHub workflows using Azure CLI...   \n",
       "99         Find the latest tag in a GitHub repository   \n",
       "\n",
       "                                          names_users  names_number  \n",
       "0   upload dh-make-golang test run as artifact,upl...           736  \n",
       "1   cache conan data,handle yarn cache,restore nod...           363  \n",
       "2   checkout ref commit,checkout the source code,c...           359  \n",
       "3   download external libs,download ${{ matrix.nam...           228  \n",
       "4   upload node modules package,uploading release ...           218  \n",
       "..                                                ...           ...  \n",
       "92  build wheels for linux,build macos wheels,buil...             4  \n",
       "90  report coverage,send goveralls coverage,upload...             4  \n",
       "89  sign proprietary app bundle,sign helloxr openg...             4  \n",
       "88  get windows helper ips,create windows helper v...             4  \n",
       "99  get latest charts for ingester,get latest char...             4  \n",
       "\n",
       "[100 rows x 5 columns]"
      ]
     },
     "execution_count": 5,
     "metadata": {},
     "output_type": "execute_result"
    }
   ],
   "source": [
    "df_action_name_test = (\n",
    "    pd.read_csv(DATA_DIR / 'test.csv.gz', index_col = [0])\n",
    "    .sort_values(by=['names_number'],ascending=False)\n",
    "    .head(100)\n",
    ")\n",
    "\n",
    "#df_action_name = df_action_name.loc[(df_action_name['names_number'] >= 1000)]\n",
    "df_action_name_test"
   ]
  },
  {
   "cell_type": "code",
   "execution_count": 6,
   "id": "56ce855f-723c-4fb0-b46f-7317b65eae26",
   "metadata": {},
   "outputs": [],
   "source": [
    "list_actions = [row['action'] for _,row in df_action_name_test.iterrows()]\n",
    "list_names_official = [row['name_official'].lower() for _,row in df_action_name_test.iterrows()]\n",
    "list_names_users = [row['names_users'].split(',')[:10] for _,row in df_action_name_test.iterrows()]"
   ]
  },
  {
   "cell_type": "markdown",
   "id": "c7f3fc16-bb2a-4a32-a619-3bc1b5079436",
   "metadata": {},
   "source": [
    "# Evaluate the Marketplace search engine by searching for actions with user-assigned names in test set."
   ]
  },
  {
   "cell_type": "code",
   "execution_count": 7,
   "id": "b4ed43ce-f2c5-4ffb-bd6b-79c79f6be50d",
   "metadata": {},
   "outputs": [],
   "source": [
    "def search_actions(name):\n",
    "    '''\n",
    "    this function search actions through github marketplace with a given name.\n",
    "    '''\n",
    "    \n",
    "    url_name = 'https://github.com/marketplace?query=' + \"+\".join(name.split(' ')) + '+'\n",
    "    #print(url_name)\n",
    "    response = requests.get(url_name)\n",
    "    pattern = re.compile('<a href=\"/marketplace/actions/[^\"]*')\n",
    "    results = pattern.findall(response.text)\n",
    "    results = [result.split('/')[-1] for result in results]\n",
    "    \n",
    "    #results = [result.split('/')[-1] for result in results]\n",
    "    return results"
   ]
  },
  {
   "cell_type": "code",
   "execution_count": 8,
   "id": "163bd88f-eed8-463e-8439-f238b2be2423",
   "metadata": {},
   "outputs": [
    {
     "name": "stderr",
     "output_type": "stream",
     "text": [
      "100%|███████████████████████████████████████████████████████████████████████████████████████████████████████████| 100/100 [02:54<00:00,  1.75s/it]\n"
     ]
    }
   ],
   "source": [
    "# find the actions on github marketplace for all the user-assigned names.\n",
    "\n",
    "all_action_list = []\n",
    "\n",
    "for names_users in tqdm(list_names_users):\n",
    "    \n",
    "    found_actions_list = []\n",
    "    #print(f'Official name:{name_official}')\n",
    "    for name in names_users:\n",
    "        \n",
    "        #print(f'User name:{name}')\n",
    "        actions = search_actions(name)\n",
    "        found_actions_list.append(actions)\n",
    "\n",
    "    \n",
    "    all_action_list.append(found_actions_list)"
   ]
  },
  {
   "cell_type": "code",
   "execution_count": 9,
   "id": "9de9fe4a-d62b-4d16-94f2-342853ad1764",
   "metadata": {},
   "outputs": [],
   "source": [
    "def match_action(name_official, found_actions, top_n):\n",
    "    '''\n",
    "    This function checks if the desired action has actually been found by the marketplace searching engine.\n",
    "    if yes, return 1, 0 otherwise.\n",
    "    '''\n",
    "    found = 0\n",
    "    \n",
    "    for found_action in found_actions[:top_n]:\n",
    "        \n",
    "        if name_official in found_action:\n",
    "            \n",
    "            found = 1\n",
    "            break\n",
    "        \n",
    "    return found\n",
    "\n",
    "def acc(all_action_match):\n",
    "    '''\n",
    "    This function returns the accuracy.\n",
    "    '''\n",
    "    acc = []\n",
    "    for action_match in all_action_match:\n",
    "        action_match = action_match\n",
    "        acc.append(sum(action_match)/len(action_match))\n",
    "    \n",
    "    print(f'Average Acc:{round(sum(acc)/len(acc),4)}')\n",
    "    return acc"
   ]
  },
  {
   "cell_type": "code",
   "execution_count": 10,
   "id": "4a702adc-547a-4113-b69f-d9a52eeb44f5",
   "metadata": {},
   "outputs": [],
   "source": [
    "# check the results for the actions found with the user-assigned names.\n",
    "\n",
    "top_n = 2\n",
    "all_action_match = []\n",
    "\n",
    "for real_action,found_actions in zip(list_names_official,all_action_list):\n",
    "\n",
    "    real_action = '-'.join(real_action.split(' '))\n",
    "    \n",
    "    action_match = []\n",
    "    \n",
    "    for found_action in found_actions:\n",
    "    \n",
    "        action_match.append(match_action(real_action,found_action,top_n))\n",
    "    \n",
    "    all_action_match.append(action_match)"
   ]
  },
  {
   "cell_type": "code",
   "execution_count": 11,
   "id": "2a859a7a-31ba-4cd5-aeb5-932a1764ac13",
   "metadata": {},
   "outputs": [
    {
     "name": "stdout",
     "output_type": "stream",
     "text": [
      "Average Acc:0.0279\n"
     ]
    }
   ],
   "source": [
    "list_acc = acc(all_action_match)"
   ]
  },
  {
   "cell_type": "markdown",
   "id": "51564623-f846-4333-8968-40a6c6f2c423",
   "metadata": {},
   "source": [
    "# What about with the official names?"
   ]
  },
  {
   "cell_type": "code",
   "execution_count": 12,
   "id": "bdeb5abc-abf6-43d8-9fbd-22be00fa4c50",
   "metadata": {},
   "outputs": [
    {
     "name": "stderr",
     "output_type": "stream",
     "text": [
      "100%|███████████████████████████████████████████████████████████████████████████████████████████████████████████| 100/100 [00:31<00:00,  3.20it/s]\n"
     ]
    }
   ],
   "source": [
    "# find the actions on github marketplace with the official names.\n",
    "\n",
    "actions_by_name_official = []\n",
    "\n",
    "for name in tqdm(list_names_official):\n",
    "    actions_by_name_official.append(search_actions(name))\n",
    "    "
   ]
  },
  {
   "cell_type": "code",
   "execution_count": 13,
   "id": "94b23525-f2d9-46e6-ada3-667911876d36",
   "metadata": {},
   "outputs": [],
   "source": [
    "# check the results for the actions found with the official names.\n",
    "top_n = 1\n",
    "action_match = []\n",
    "\n",
    "for real_action,found_action in zip(list_names_official,actions_by_name_official):\n",
    "    real_action = '-'.join(real_action.split(' '))\n",
    "    \n",
    "    action_match.append(match_action(real_action,found_action,top_n))\n",
    "        "
   ]
  },
  {
   "cell_type": "code",
   "execution_count": 16,
   "id": "d4f83d8c-605e-4f65-a01d-35d79626c288",
   "metadata": {},
   "outputs": [
    {
     "name": "stdout",
     "output_type": "stream",
     "text": [
      "0.77\n"
     ]
    }
   ],
   "source": [
    "print(sum(action_match)/len(action_match))"
   ]
  },
  {
   "cell_type": "code",
   "execution_count": null,
   "id": "77cff974-127d-4d03-a9f4-0fe9e7656410",
   "metadata": {},
   "outputs": [],
   "source": []
  }
 ],
 "metadata": {
  "kernelspec": {
   "display_name": "Python 3 (ipykernel)",
   "language": "python",
   "name": "python3"
  },
  "language_info": {
   "codemirror_mode": {
    "name": "ipython",
    "version": 3
   },
   "file_extension": ".py",
   "mimetype": "text/x-python",
   "name": "python",
   "nbconvert_exporter": "python",
   "pygments_lexer": "ipython3",
   "version": "3.9.10"
  }
 },
 "nbformat": 4,
 "nbformat_minor": 5
}
